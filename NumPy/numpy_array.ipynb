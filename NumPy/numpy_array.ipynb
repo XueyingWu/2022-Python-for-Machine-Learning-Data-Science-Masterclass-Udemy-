{
 "cells": [
  {
   "cell_type": "code",
   "execution_count": 4,
   "id": "93ca6c48-3aa1-4073-9974-7b221dbe2ccf",
   "metadata": {},
   "outputs": [],
   "source": [
    "import numpy as np"
   ]
  },
  {
   "cell_type": "code",
   "execution_count": 20,
   "id": "a61290a4-6511-432b-9ef1-e41cc20b06e3",
   "metadata": {},
   "outputs": [
    {
     "name": "stdout",
     "output_type": "stream",
     "text": [
      "[1, 2, 3]\n"
     ]
    }
   ],
   "source": [
    "mylist= [1,2,3]\n",
    "print(mylist) #list is a set "
   ]
  },
  {
   "cell_type": "code",
   "execution_count": 21,
   "id": "70d18115-7841-4dc2-9fd8-56fe04cec9a7",
   "metadata": {},
   "outputs": [
    {
     "name": "stdout",
     "output_type": "stream",
     "text": [
      "[1 2 3]\n"
     ]
    }
   ],
   "source": [
    "new_array=np.array(mylist)\n",
    "print(new_array) #numpy array is a matrix "
   ]
  },
  {
   "cell_type": "code",
   "execution_count": 14,
   "id": "19e75480-5e66-499a-806b-826c881f92e6",
   "metadata": {},
   "outputs": [
    {
     "data": {
      "text/plain": [
       "array([0, 2, 4, 6, 8])"
      ]
     },
     "execution_count": 14,
     "metadata": {},
     "output_type": "execute_result"
    }
   ],
   "source": [
    "np.arange(0,10,2) ##等差数列"
   ]
  },
  {
   "cell_type": "code",
   "execution_count": 16,
   "id": "cb4c60ed-f52f-4707-bfaf-41f2f6012cfe",
   "metadata": {},
   "outputs": [
    {
     "data": {
      "text/plain": [
       "array([0., 0., 0., 0., 0.])"
      ]
     },
     "execution_count": 16,
     "metadata": {},
     "output_type": "execute_result"
    }
   ],
   "source": [
    "np.zeros(5) ##create zeros, one can also do np.ones(x)"
   ]
  },
  {
   "cell_type": "code",
   "execution_count": 18,
   "id": "b58420c8-b16e-4030-acf3-558ed99e3072",
   "metadata": {},
   "outputs": [
    {
     "data": {
      "text/plain": [
       "array([[0., 0., 0., 0., 0.],\n",
       "       [0., 0., 0., 0., 0.]])"
      ]
     },
     "execution_count": 18,
     "metadata": {},
     "output_type": "execute_result"
    }
   ],
   "source": [
    "np.zeros((2,5)) #2 rows and 5 cols "
   ]
  },
  {
   "cell_type": "code",
   "execution_count": 77,
   "id": "0b63794d-1e1c-4637-b238-c8c38a61ea02",
   "metadata": {},
   "outputs": [
    {
     "data": {
      "text/plain": [
       "array([ 0. ,  2.5,  5. ,  7.5, 10. ])"
      ]
     },
     "execution_count": 77,
     "metadata": {},
     "output_type": "execute_result"
    }
   ],
   "source": [
    "np.linspace(0,10,5) # from 0 to 10, linearly spaced 3 numbers. Including end point here.  "
   ]
  },
  {
   "cell_type": "code",
   "execution_count": 22,
   "id": "555d22f4-db3a-458a-93f0-bbfec79759d1",
   "metadata": {},
   "outputs": [
    {
     "data": {
      "text/plain": [
       "array([[1., 0., 0., 0., 0.],\n",
       "       [0., 1., 0., 0., 0.],\n",
       "       [0., 0., 1., 0., 0.],\n",
       "       [0., 0., 0., 1., 0.],\n",
       "       [0., 0., 0., 0., 1.]])"
      ]
     },
     "execution_count": 22,
     "metadata": {},
     "output_type": "execute_result"
    }
   ],
   "source": [
    "np.eye(5) #identity(square) matrix "
   ]
  },
  {
   "cell_type": "code",
   "execution_count": 29,
   "id": "14df780b-21a0-4ec4-8207-bab7272156db",
   "metadata": {},
   "outputs": [
    {
     "data": {
      "text/plain": [
       "array([[0.68867581, 0.3878053 ],\n",
       "       [0.59054251, 0.58666159],\n",
       "       [0.79546301, 0.02807668],\n",
       "       [0.39291006, 0.73740915],\n",
       "       [0.16858067, 0.83359095]])"
      ]
     },
     "execution_count": 29,
     "metadata": {},
     "output_type": "execute_result"
    }
   ],
   "source": [
    "np.random.rand(5,2) #Create an array of the given shape and populate it with random samples from a uniform distribution over ``[0, 1)``."
   ]
  },
  {
   "cell_type": "code",
   "execution_count": 31,
   "id": "0a3ebc47-0edc-4670-aaa0-1129fbf002ca",
   "metadata": {},
   "outputs": [
    {
     "data": {
      "text/plain": [
       "array([[-0.52399285, -1.15781656],\n",
       "       [ 1.40672147,  0.19254088],\n",
       "       [-0.96661873, -0.18944205]])"
      ]
     },
     "execution_count": 31,
     "metadata": {},
     "output_type": "execute_result"
    }
   ],
   "source": [
    "np.random.randn(3,2) #returning samples from a mean=0, normal distribution "
   ]
  },
  {
   "cell_type": "code",
   "execution_count": 35,
   "id": "2386ae7a-8b16-4242-b7fe-09132cb2748e",
   "metadata": {},
   "outputs": [
    {
     "data": {
      "text/plain": [
       "array([[7, 5],\n",
       "       [9, 6]])"
      ]
     },
     "execution_count": 35,
     "metadata": {},
     "output_type": "execute_result"
    }
   ],
   "source": [
    "np.random.randint(2,10,(2,2)) #random integers "
   ]
  },
  {
   "cell_type": "code",
   "execution_count": 37,
   "id": "10c4b547-71cb-4514-bf55-275bf34ad172",
   "metadata": {},
   "outputs": [
    {
     "data": {
      "text/plain": [
       "array([0.37454012, 0.95071431, 0.73199394, 0.59865848])"
      ]
     },
     "execution_count": 37,
     "metadata": {},
     "output_type": "execute_result"
    }
   ],
   "source": [
    "np.random.seed(42) #set a seed, set a random-state, so one can repreduce the random list \n",
    "np.random.rand(4) #make sure do in the same cell "
   ]
  },
  {
   "cell_type": "code",
   "execution_count": 70,
   "id": "dac5688b-4835-465c-9218-ccb23cbedfbd",
   "metadata": {},
   "outputs": [],
   "source": [
    "arr = np.arange(0,25)"
   ]
  },
  {
   "cell_type": "code",
   "execution_count": 71,
   "id": "695965dc-7adf-4c80-8ba1-556ee2f2bbcb",
   "metadata": {},
   "outputs": [
    {
     "data": {
      "text/plain": [
       "array([[ 0,  1,  2,  3,  4],\n",
       "       [ 5,  6,  7,  8,  9],\n",
       "       [10, 11, 12, 13, 14],\n",
       "       [15, 16, 17, 18, 19],\n",
       "       [20, 21, 22, 23, 24]])"
      ]
     },
     "execution_count": 71,
     "metadata": {},
     "output_type": "execute_result"
    }
   ],
   "source": [
    "arr.reshape(5,5) #take the same number from arr and reformat it "
   ]
  },
  {
   "cell_type": "code",
   "execution_count": 44,
   "id": "c3ce6514-750d-44bd-8ad3-33e4b3bd9a1b",
   "metadata": {},
   "outputs": [],
   "source": [
    "ranarr = np.random.randint(0,101,10)"
   ]
  },
  {
   "cell_type": "code",
   "execution_count": 51,
   "id": "3504e310-51cb-4b01-8991-61468ddac1e6",
   "metadata": {},
   "outputs": [
    {
     "data": {
      "text/plain": [
       "99"
      ]
     },
     "execution_count": 51,
     "metadata": {},
     "output_type": "execute_result"
    }
   ],
   "source": [
    "ranarr.max() #for example, list does not support max()"
   ]
  },
  {
   "cell_type": "code",
   "execution_count": 52,
   "id": "939f63f2-4c7d-47e7-80f9-46c9e6c455f2",
   "metadata": {},
   "outputs": [
    {
     "data": {
      "text/plain": [
       "5"
      ]
     },
     "execution_count": 52,
     "metadata": {},
     "output_type": "execute_result"
    }
   ],
   "source": [
    "ranarr.argmax() #the index number of max "
   ]
  },
  {
   "cell_type": "code",
   "execution_count": 53,
   "id": "7b728f8c-e1f1-4088-8a51-40d81a1f225c",
   "metadata": {},
   "outputs": [
    {
     "data": {
      "text/plain": [
       "dtype('int64')"
      ]
     },
     "execution_count": 53,
     "metadata": {},
     "output_type": "execute_result"
    }
   ],
   "source": [
    "ranarr.dtype #type"
   ]
  },
  {
   "cell_type": "code",
   "execution_count": 72,
   "id": "24e12901-9417-4d81-9c2d-e29eacb9e3d6",
   "metadata": {},
   "outputs": [
    {
     "data": {
      "text/plain": [
       "(25,)"
      ]
     },
     "execution_count": 72,
     "metadata": {},
     "output_type": "execute_result"
    }
   ],
   "source": [
    "arr.shape #(25,) "
   ]
  },
  {
   "cell_type": "code",
   "execution_count": 73,
   "id": "171a049b-f8a6-4b6c-b8a7-6a9e63bac858",
   "metadata": {},
   "outputs": [],
   "source": [
    "arr_2 = arr.reshape(5,5)"
   ]
  },
  {
   "cell_type": "code",
   "execution_count": 74,
   "id": "6e190c3f-05f6-4006-b1b9-6b79610f2ef3",
   "metadata": {},
   "outputs": [
    {
     "data": {
      "text/plain": [
       "(5, 5)"
      ]
     },
     "execution_count": 74,
     "metadata": {},
     "output_type": "execute_result"
    }
   ],
   "source": [
    "arr_2.shape"
   ]
  },
  {
   "cell_type": "code",
   "execution_count": 75,
   "id": "364f876d-fe83-4af3-9ee4-cfcaaaf9d029",
   "metadata": {},
   "outputs": [],
   "source": [
    "arr_3= arr.reshape(25,1)"
   ]
  },
  {
   "cell_type": "code",
   "execution_count": 76,
   "id": "dc11419f-c08c-4e8c-9f53-1d69b68e7618",
   "metadata": {},
   "outputs": [
    {
     "data": {
      "text/plain": [
       "(25, 1)"
      ]
     },
     "execution_count": 76,
     "metadata": {},
     "output_type": "execute_result"
    }
   ],
   "source": [
    "arr_3.shape"
   ]
  },
  {
   "cell_type": "code",
   "execution_count": null,
   "id": "34f33bf4-4276-4c0e-b796-07d405241013",
   "metadata": {},
   "outputs": [],
   "source": []
  }
 ],
 "metadata": {
  "kernelspec": {
   "display_name": "Python 3 (ipykernel)",
   "language": "python",
   "name": "python3"
  },
  "language_info": {
   "codemirror_mode": {
    "name": "ipython",
    "version": 3
   },
   "file_extension": ".py",
   "mimetype": "text/x-python",
   "name": "python",
   "nbconvert_exporter": "python",
   "pygments_lexer": "ipython3",
   "version": "3.9.7"
  }
 },
 "nbformat": 4,
 "nbformat_minor": 5
}
