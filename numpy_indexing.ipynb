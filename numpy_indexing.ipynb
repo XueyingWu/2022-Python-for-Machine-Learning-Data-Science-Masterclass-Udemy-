{
 "cells": [
  {
   "cell_type": "code",
   "execution_count": 1,
   "id": "c54e04b8-4037-475d-92d6-e463057a016f",
   "metadata": {},
   "outputs": [],
   "source": [
    "import numpy as np"
   ]
  },
  {
   "cell_type": "code",
   "execution_count": 3,
   "id": "2c752c5e-f225-48a9-82d1-eaa45a9fbda6",
   "metadata": {},
   "outputs": [],
   "source": [
    "arr = np.arange(0,11)"
   ]
  },
  {
   "cell_type": "code",
   "execution_count": 4,
   "id": "4303102b-2c95-4986-baab-11d3ef599712",
   "metadata": {},
   "outputs": [
    {
     "data": {
      "text/plain": [
       "array([0, 1, 2, 3, 4])"
      ]
     },
     "execution_count": 4,
     "metadata": {},
     "output_type": "execute_result"
    }
   ],
   "source": [
    "arr[:5] #from start "
   ]
  },
  {
   "cell_type": "code",
   "execution_count": 5,
   "id": "bbe34436-674d-44b5-806f-99b3ce4ca027",
   "metadata": {},
   "outputs": [
    {
     "data": {
      "text/plain": [
       "array([ 5,  6,  7,  8,  9, 10])"
      ]
     },
     "execution_count": 5,
     "metadata": {},
     "output_type": "execute_result"
    }
   ],
   "source": [
    "arr[5:]#from end "
   ]
  },
  {
   "cell_type": "code",
   "execution_count": 6,
   "id": "cac698aa-918b-478a-b37b-203c278cd361",
   "metadata": {},
   "outputs": [],
   "source": [
    "arr[0:5]=100"
   ]
  },
  {
   "cell_type": "code",
   "execution_count": 7,
   "id": "5aafd61a-aa8b-4e61-bbf9-f7c5e2db8654",
   "metadata": {},
   "outputs": [
    {
     "data": {
      "text/plain": [
       "array([100, 100, 100, 100, 100,   5,   6,   7,   8,   9,  10])"
      ]
     },
     "execution_count": 7,
     "metadata": {},
     "output_type": "execute_result"
    }
   ],
   "source": [
    "arr"
   ]
  },
  {
   "cell_type": "code",
   "execution_count": 8,
   "id": "e061604f-aa6b-4cad-bc1f-18d4e2e2f341",
   "metadata": {},
   "outputs": [],
   "source": [
    "slice_of_arr=arr[0:5]"
   ]
  },
  {
   "cell_type": "code",
   "execution_count": 10,
   "id": "722a7d58-713d-4b21-9e63-f2175e3f0a8a",
   "metadata": {},
   "outputs": [],
   "source": [
    "slice_of_arr[:]=99 #broadcasting operation has affected the original array "
   ]
  },
  {
   "cell_type": "code",
   "execution_count": 12,
   "id": "05d24bd0-471f-4274-a6a8-22ad02dd9f4a",
   "metadata": {},
   "outputs": [],
   "source": [
    "arr_copy=arr.copy() #otherwise need to copy the original array "
   ]
  },
  {
   "cell_type": "code",
   "execution_count": 13,
   "id": "4786ad4f-6922-40e5-84e7-584a3e4c02c7",
   "metadata": {},
   "outputs": [],
   "source": [
    "arr_copy[:]=100"
   ]
  },
  {
   "cell_type": "code",
   "execution_count": 15,
   "id": "fa464e32-b3f3-4c6e-a24e-1d825bb64207",
   "metadata": {},
   "outputs": [],
   "source": [
    "arr_2d=np.array([[5,10,15],[20,25,30],[35,40,45]])"
   ]
  },
  {
   "cell_type": "code",
   "execution_count": 16,
   "id": "b3c8b5ba-08b2-4ff5-9a6f-e204c6a21cb0",
   "metadata": {},
   "outputs": [
    {
     "data": {
      "text/plain": [
       "array([[ 5, 10, 15],\n",
       "       [20, 25, 30],\n",
       "       [35, 40, 45]])"
      ]
     },
     "execution_count": 16,
     "metadata": {},
     "output_type": "execute_result"
    }
   ],
   "source": [
    "arr_2d"
   ]
  },
  {
   "cell_type": "code",
   "execution_count": 17,
   "id": "9b50bbca-cfe4-40b9-99e6-11d5cf8d8653",
   "metadata": {},
   "outputs": [
    {
     "data": {
      "text/plain": [
       "(3, 3)"
      ]
     },
     "execution_count": 17,
     "metadata": {},
     "output_type": "execute_result"
    }
   ],
   "source": [
    "arr_2d.shape"
   ]
  },
  {
   "cell_type": "code",
   "execution_count": 33,
   "id": "94933724-249f-41d8-8832-807cd09856ae",
   "metadata": {},
   "outputs": [
    {
     "data": {
      "text/plain": [
       "array([[10, 15],\n",
       "       [25, 30]])"
      ]
     },
     "execution_count": 33,
     "metadata": {},
     "output_type": "execute_result"
    }
   ],
   "source": [
    "arr_2d[:2,1:]"
   ]
  },
  {
   "cell_type": "code",
   "execution_count": 36,
   "id": "941b5fdf-763d-4c03-bcab-b0dace9aa6fc",
   "metadata": {},
   "outputs": [],
   "source": [
    "arr[0:5]=np.arange(0,5)"
   ]
  },
  {
   "cell_type": "code",
   "execution_count": 38,
   "id": "cbbc5b3c-bc60-4d2a-a80b-3b99fae87d9b",
   "metadata": {},
   "outputs": [
    {
     "data": {
      "text/plain": [
       "array([False, False, False, False, False,  True,  True,  True,  True,\n",
       "        True,  True])"
      ]
     },
     "execution_count": 38,
     "metadata": {},
     "output_type": "execute_result"
    }
   ],
   "source": [
    "arr>4"
   ]
  },
  {
   "cell_type": "code",
   "execution_count": 39,
   "id": "6181977a-b691-44f7-8c64-093aa66a33f4",
   "metadata": {},
   "outputs": [],
   "source": [
    "bool_arr = arr >4 "
   ]
  },
  {
   "cell_type": "code",
   "execution_count": 40,
   "id": "d643ab0e-0b16-4450-a14a-f76973a498f5",
   "metadata": {},
   "outputs": [
    {
     "data": {
      "text/plain": [
       "array([ 5,  6,  7,  8,  9, 10])"
      ]
     },
     "execution_count": 40,
     "metadata": {},
     "output_type": "execute_result"
    }
   ],
   "source": [
    "arr[bool_arr] #only return index when bool_arr is true "
   ]
  },
  {
   "cell_type": "code",
   "execution_count": 41,
   "id": "d5be2337-bf8e-44f2-942a-3b45043230e3",
   "metadata": {},
   "outputs": [
    {
     "data": {
      "text/plain": [
       "array([ 5,  6,  7,  8,  9, 10])"
      ]
     },
     "execution_count": 41,
     "metadata": {},
     "output_type": "execute_result"
    }
   ],
   "source": [
    "arr[arr>4]"
   ]
  },
  {
   "cell_type": "code",
   "execution_count": 42,
   "id": "c16131b7-2362-4a98-8b95-f3e545c242b6",
   "metadata": {},
   "outputs": [],
   "source": [
    "dice_rolls = np.array([3, 1, 5, 2, 5, 1, 1, 5, 1, 4, 2, 1, 4, 5, 3, 4, 5, 2, 4, 2, 6, 6, 3, 6, 2, 3, 5, 6, 5])"
   ]
  },
  {
   "cell_type": "code",
   "execution_count": 46,
   "id": "d58cb9c4-0620-4d14-abd9-d3d908459f66",
   "metadata": {},
   "outputs": [
    {
     "data": {
      "text/plain": [
       "array([ True, False,  True, False,  True, False, False,  True, False,\n",
       "        True, False, False,  True,  True,  True,  True,  True, False,\n",
       "        True, False,  True,  True,  True,  True, False,  True,  True,\n",
       "        True,  True])"
      ]
     },
     "execution_count": 46,
     "metadata": {},
     "output_type": "execute_result"
    }
   ],
   "source": [
    "dice_rolls>2"
   ]
  },
  {
   "cell_type": "code",
   "execution_count": null,
   "id": "4870b212-367a-42c4-9636-c62e212c5c40",
   "metadata": {},
   "outputs": [],
   "source": []
  }
 ],
 "metadata": {
  "kernelspec": {
   "display_name": "Python 3 (ipykernel)",
   "language": "python",
   "name": "python3"
  },
  "language_info": {
   "codemirror_mode": {
    "name": "ipython",
    "version": 3
   },
   "file_extension": ".py",
   "mimetype": "text/x-python",
   "name": "python",
   "nbconvert_exporter": "python",
   "pygments_lexer": "ipython3",
   "version": "3.9.7"
  }
 },
 "nbformat": 4,
 "nbformat_minor": 5
}
